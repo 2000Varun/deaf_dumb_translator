{
 "cells": [
  {
   "cell_type": "code",
   "execution_count": 1,
   "metadata": {},
   "outputs": [],
   "source": [
    "import numpy as np\n",
    "import pandas as pd\n",
    "import matplotlib.pyplot as plt"
   ]
  },
  {
   "cell_type": "code",
   "execution_count": 2,
   "metadata": {},
   "outputs": [],
   "source": [
    "train = pd.read_csv('sign_mnist_train.csv')"
   ]
  },
  {
   "cell_type": "code",
   "execution_count": 3,
   "metadata": {},
   "outputs": [],
   "source": [
    "test = pd.read_csv('sign_mnist_test.csv')"
   ]
  },
  {
   "cell_type": "code",
   "execution_count": 4,
   "metadata": {},
   "outputs": [
    {
     "data": {
      "text/html": [
       "<div>\n",
       "<style scoped>\n",
       "    .dataframe tbody tr th:only-of-type {\n",
       "        vertical-align: middle;\n",
       "    }\n",
       "\n",
       "    .dataframe tbody tr th {\n",
       "        vertical-align: top;\n",
       "    }\n",
       "\n",
       "    .dataframe thead th {\n",
       "        text-align: right;\n",
       "    }\n",
       "</style>\n",
       "<table border=\"1\" class=\"dataframe\">\n",
       "  <thead>\n",
       "    <tr style=\"text-align: right;\">\n",
       "      <th></th>\n",
       "      <th>label</th>\n",
       "      <th>pixel1</th>\n",
       "      <th>pixel2</th>\n",
       "      <th>pixel3</th>\n",
       "      <th>pixel4</th>\n",
       "      <th>pixel5</th>\n",
       "      <th>pixel6</th>\n",
       "      <th>pixel7</th>\n",
       "      <th>pixel8</th>\n",
       "      <th>pixel9</th>\n",
       "      <th>...</th>\n",
       "      <th>pixel775</th>\n",
       "      <th>pixel776</th>\n",
       "      <th>pixel777</th>\n",
       "      <th>pixel778</th>\n",
       "      <th>pixel779</th>\n",
       "      <th>pixel780</th>\n",
       "      <th>pixel781</th>\n",
       "      <th>pixel782</th>\n",
       "      <th>pixel783</th>\n",
       "      <th>pixel784</th>\n",
       "    </tr>\n",
       "  </thead>\n",
       "  <tbody>\n",
       "    <tr>\n",
       "      <td>0</td>\n",
       "      <td>3</td>\n",
       "      <td>107</td>\n",
       "      <td>118</td>\n",
       "      <td>127</td>\n",
       "      <td>134</td>\n",
       "      <td>139</td>\n",
       "      <td>143</td>\n",
       "      <td>146</td>\n",
       "      <td>150</td>\n",
       "      <td>153</td>\n",
       "      <td>...</td>\n",
       "      <td>207</td>\n",
       "      <td>207</td>\n",
       "      <td>207</td>\n",
       "      <td>207</td>\n",
       "      <td>206</td>\n",
       "      <td>206</td>\n",
       "      <td>206</td>\n",
       "      <td>204</td>\n",
       "      <td>203</td>\n",
       "      <td>202</td>\n",
       "    </tr>\n",
       "    <tr>\n",
       "      <td>1</td>\n",
       "      <td>6</td>\n",
       "      <td>155</td>\n",
       "      <td>157</td>\n",
       "      <td>156</td>\n",
       "      <td>156</td>\n",
       "      <td>156</td>\n",
       "      <td>157</td>\n",
       "      <td>156</td>\n",
       "      <td>158</td>\n",
       "      <td>158</td>\n",
       "      <td>...</td>\n",
       "      <td>69</td>\n",
       "      <td>149</td>\n",
       "      <td>128</td>\n",
       "      <td>87</td>\n",
       "      <td>94</td>\n",
       "      <td>163</td>\n",
       "      <td>175</td>\n",
       "      <td>103</td>\n",
       "      <td>135</td>\n",
       "      <td>149</td>\n",
       "    </tr>\n",
       "    <tr>\n",
       "      <td>2</td>\n",
       "      <td>2</td>\n",
       "      <td>187</td>\n",
       "      <td>188</td>\n",
       "      <td>188</td>\n",
       "      <td>187</td>\n",
       "      <td>187</td>\n",
       "      <td>186</td>\n",
       "      <td>187</td>\n",
       "      <td>188</td>\n",
       "      <td>187</td>\n",
       "      <td>...</td>\n",
       "      <td>202</td>\n",
       "      <td>201</td>\n",
       "      <td>200</td>\n",
       "      <td>199</td>\n",
       "      <td>198</td>\n",
       "      <td>199</td>\n",
       "      <td>198</td>\n",
       "      <td>195</td>\n",
       "      <td>194</td>\n",
       "      <td>195</td>\n",
       "    </tr>\n",
       "    <tr>\n",
       "      <td>3</td>\n",
       "      <td>2</td>\n",
       "      <td>211</td>\n",
       "      <td>211</td>\n",
       "      <td>212</td>\n",
       "      <td>212</td>\n",
       "      <td>211</td>\n",
       "      <td>210</td>\n",
       "      <td>211</td>\n",
       "      <td>210</td>\n",
       "      <td>210</td>\n",
       "      <td>...</td>\n",
       "      <td>235</td>\n",
       "      <td>234</td>\n",
       "      <td>233</td>\n",
       "      <td>231</td>\n",
       "      <td>230</td>\n",
       "      <td>226</td>\n",
       "      <td>225</td>\n",
       "      <td>222</td>\n",
       "      <td>229</td>\n",
       "      <td>163</td>\n",
       "    </tr>\n",
       "    <tr>\n",
       "      <td>4</td>\n",
       "      <td>13</td>\n",
       "      <td>164</td>\n",
       "      <td>167</td>\n",
       "      <td>170</td>\n",
       "      <td>172</td>\n",
       "      <td>176</td>\n",
       "      <td>179</td>\n",
       "      <td>180</td>\n",
       "      <td>184</td>\n",
       "      <td>185</td>\n",
       "      <td>...</td>\n",
       "      <td>92</td>\n",
       "      <td>105</td>\n",
       "      <td>105</td>\n",
       "      <td>108</td>\n",
       "      <td>133</td>\n",
       "      <td>163</td>\n",
       "      <td>157</td>\n",
       "      <td>163</td>\n",
       "      <td>164</td>\n",
       "      <td>179</td>\n",
       "    </tr>\n",
       "  </tbody>\n",
       "</table>\n",
       "<p>5 rows × 785 columns</p>\n",
       "</div>"
      ],
      "text/plain": [
       "   label  pixel1  pixel2  pixel3  pixel4  pixel5  pixel6  pixel7  pixel8  \\\n",
       "0      3     107     118     127     134     139     143     146     150   \n",
       "1      6     155     157     156     156     156     157     156     158   \n",
       "2      2     187     188     188     187     187     186     187     188   \n",
       "3      2     211     211     212     212     211     210     211     210   \n",
       "4     13     164     167     170     172     176     179     180     184   \n",
       "\n",
       "   pixel9  ...  pixel775  pixel776  pixel777  pixel778  pixel779  pixel780  \\\n",
       "0     153  ...       207       207       207       207       206       206   \n",
       "1     158  ...        69       149       128        87        94       163   \n",
       "2     187  ...       202       201       200       199       198       199   \n",
       "3     210  ...       235       234       233       231       230       226   \n",
       "4     185  ...        92       105       105       108       133       163   \n",
       "\n",
       "   pixel781  pixel782  pixel783  pixel784  \n",
       "0       206       204       203       202  \n",
       "1       175       103       135       149  \n",
       "2       198       195       194       195  \n",
       "3       225       222       229       163  \n",
       "4       157       163       164       179  \n",
       "\n",
       "[5 rows x 785 columns]"
      ]
     },
     "execution_count": 4,
     "metadata": {},
     "output_type": "execute_result"
    }
   ],
   "source": [
    "train.head()"
   ]
  },
  {
   "cell_type": "code",
   "execution_count": 5,
   "metadata": {},
   "outputs": [
    {
     "data": {
      "text/plain": [
       "(27455, 785)"
      ]
     },
     "execution_count": 5,
     "metadata": {},
     "output_type": "execute_result"
    }
   ],
   "source": [
    "train.shape"
   ]
  },
  {
   "cell_type": "code",
   "execution_count": 8,
   "metadata": {},
   "outputs": [],
   "source": [
    "labels = train['label'].values"
   ]
  },
  {
   "cell_type": "code",
   "execution_count": 9,
   "metadata": {},
   "outputs": [],
   "source": [
    "train.drop('label', axis = 1,inplace=True)"
   ]
  },
  {
   "cell_type": "code",
   "execution_count": 11,
   "metadata": {},
   "outputs": [
    {
     "data": {
      "text/plain": [
       "(27455,)"
      ]
     },
     "execution_count": 11,
     "metadata": {},
     "output_type": "execute_result"
    }
   ],
   "source": [
    "labels.shape"
   ]
  },
  {
   "cell_type": "code",
   "execution_count": 12,
   "metadata": {},
   "outputs": [],
   "source": [
    "from sklearn.preprocessing import LabelBinarizer\n",
    "label_binrizer = LabelBinarizer()\n",
    "labels = label_binrizer.fit_transform(labels)"
   ]
  },
  {
   "cell_type": "code",
   "execution_count": 13,
   "metadata": {},
   "outputs": [
    {
     "data": {
      "text/plain": [
       "array([[0, 0, 0, ..., 0, 0, 0],\n",
       "       [0, 0, 0, ..., 0, 0, 0],\n",
       "       [0, 0, 1, ..., 0, 0, 0],\n",
       "       ...,\n",
       "       [0, 0, 0, ..., 0, 0, 0],\n",
       "       [0, 0, 0, ..., 0, 0, 0],\n",
       "       [0, 0, 0, ..., 0, 1, 0]])"
      ]
     },
     "execution_count": 13,
     "metadata": {},
     "output_type": "execute_result"
    }
   ],
   "source": [
    "labels"
   ]
  },
  {
   "cell_type": "code",
   "execution_count": 14,
   "metadata": {},
   "outputs": [
    {
     "data": {
      "text/plain": [
       "(27455, 24)"
      ]
     },
     "execution_count": 14,
     "metadata": {},
     "output_type": "execute_result"
    }
   ],
   "source": [
    "labels.shape"
   ]
  },
  {
   "cell_type": "code",
   "execution_count": 26,
   "metadata": {},
   "outputs": [],
   "source": [
    "images = train.values\n",
    "images = np.array([np.reshape(i, (28, 28)) for i in images])\n"
   ]
  },
  {
   "cell_type": "code",
   "execution_count": 27,
   "metadata": {},
   "outputs": [
    {
     "data": {
      "text/plain": [
       "(27455, 28, 28)"
      ]
     },
     "execution_count": 27,
     "metadata": {},
     "output_type": "execute_result"
    }
   ],
   "source": [
    "images.shape"
   ]
  },
  {
   "cell_type": "code",
   "execution_count": 40,
   "metadata": {},
   "outputs": [],
   "source": [
    "from sklearn.model_selection import train_test_split\n",
    "x_train, x_test, y_train, y_test = train_test_split(images, labels, test_size = 0.3, random_state = 101)"
   ]
  },
  {
   "cell_type": "code",
   "execution_count": 31,
   "metadata": {},
   "outputs": [
    {
     "name": "stderr",
     "output_type": "stream",
     "text": [
      "Using TensorFlow backend.\n"
     ]
    }
   ],
   "source": [
    "import keras\n",
    "from keras.models import Sequential\n",
    "from keras.layers import Dense, Conv2D, MaxPooling2D, Flatten, Dropout"
   ]
  },
  {
   "cell_type": "code",
   "execution_count": 32,
   "metadata": {},
   "outputs": [],
   "source": [
    "batch_size = 128\n",
    "num_classes = 24\n",
    "epochs = 50"
   ]
  },
  {
   "cell_type": "code",
   "execution_count": 41,
   "metadata": {},
   "outputs": [
    {
     "data": {
      "text/plain": [
       "(19218, 28, 28)"
      ]
     },
     "execution_count": 41,
     "metadata": {},
     "output_type": "execute_result"
    }
   ],
   "source": [
    "x_train = x_train /255 \n",
    "x_train.shape"
   ]
  },
  {
   "cell_type": "code",
   "execution_count": 42,
   "metadata": {},
   "outputs": [],
   "source": [
    "x_train = x_train.reshape(x_train.shape[0], 28, 28, 1)"
   ]
  },
  {
   "cell_type": "code",
   "execution_count": 43,
   "metadata": {},
   "outputs": [
    {
     "data": {
      "text/plain": [
       "(19218, 28, 28, 1)"
      ]
     },
     "execution_count": 43,
     "metadata": {},
     "output_type": "execute_result"
    }
   ],
   "source": [
    "x_train.shape"
   ]
  },
  {
   "cell_type": "code",
   "execution_count": 44,
   "metadata": {},
   "outputs": [],
   "source": [
    "x_test = x_test / 255\n",
    "x_test = x_test.reshape(x_test.shape[0], 28, 28, 1)"
   ]
  },
  {
   "cell_type": "code",
   "execution_count": 45,
   "metadata": {},
   "outputs": [],
   "source": [
    "model = Sequential()\n",
    "model.add(Conv2D(64, kernel_size=(3,3), activation = 'relu', input_shape=(28, 28 ,1) ))\n",
    "model.add(MaxPooling2D(pool_size = (2, 2)))\n",
    "model.add(Conv2D(64, kernel_size = (3, 3), activation = 'relu'))\n",
    "model.add(MaxPooling2D(pool_size = (2, 2)))\n",
    "model.add(Conv2D(64, kernel_size = (3, 3), activation = 'relu'))\n",
    "model.add(MaxPooling2D(pool_size = (2, 2)))\n",
    "model.add(Flatten())\n",
    "model.add(Dense(128, activation = 'relu'))\n",
    "model.add(Dropout(0.20))\n",
    "model.add(Dense(num_classes, activation = 'softmax'))"
   ]
  },
  {
   "cell_type": "code",
   "execution_count": 46,
   "metadata": {},
   "outputs": [],
   "source": [
    "model.compile(loss = keras.losses.categorical_crossentropy, optimizer=keras.optimizers.Adam(),\n",
    "              metrics=['accuracy'])"
   ]
  },
  {
   "cell_type": "code",
   "execution_count": 47,
   "metadata": {},
   "outputs": [
    {
     "name": "stdout",
     "output_type": "stream",
     "text": [
      "Train on 19218 samples, validate on 8237 samples\n",
      "Epoch 1/50\n",
      "19218/19218 [==============================] - 24s 1ms/step - loss: 2.5045 - accuracy: 0.2327 - val_loss: 1.4188 - val_accuracy: 0.5797\n",
      "Epoch 2/50\n",
      "19218/19218 [==============================] - 21s 1ms/step - loss: 1.1142 - accuracy: 0.6281 - val_loss: 0.6873 - val_accuracy: 0.7982\n",
      "Epoch 3/50\n",
      "19218/19218 [==============================] - 19s 1ms/step - loss: 0.6636 - accuracy: 0.7777 - val_loss: 0.4158 - val_accuracy: 0.8711\n",
      "Epoch 4/50\n",
      "19218/19218 [==============================] - 20s 1ms/step - loss: 0.4212 - accuracy: 0.8588 - val_loss: 0.2433 - val_accuracy: 0.9278\n",
      "Epoch 5/50\n",
      "19218/19218 [==============================] - 19s 1ms/step - loss: 0.2805 - accuracy: 0.9101 - val_loss: 0.1599 - val_accuracy: 0.9576\n",
      "Epoch 6/50\n",
      "19218/19218 [==============================] - 20s 1ms/step - loss: 0.1926 - accuracy: 0.9392 - val_loss: 0.1091 - val_accuracy: 0.9738\n",
      "Epoch 7/50\n",
      "19218/19218 [==============================] - 20s 1ms/step - loss: 0.1295 - accuracy: 0.9605 - val_loss: 0.0643 - val_accuracy: 0.9845\n",
      "Epoch 8/50\n",
      "19218/19218 [==============================] - 19s 980us/step - loss: 0.0939 - accuracy: 0.9718 - val_loss: 0.0474 - val_accuracy: 0.9922\n",
      "Epoch 9/50\n",
      "19218/19218 [==============================] - 20s 1ms/step - loss: 0.0719 - accuracy: 0.9787 - val_loss: 0.0275 - val_accuracy: 0.9972\n",
      "Epoch 10/50\n",
      "19218/19218 [==============================] - 20s 1ms/step - loss: 0.0537 - accuracy: 0.9853 - val_loss: 0.0210 - val_accuracy: 0.9960\n",
      "Epoch 11/50\n",
      "19218/19218 [==============================] - 20s 1ms/step - loss: 0.0490 - accuracy: 0.9862 - val_loss: 0.0133 - val_accuracy: 0.9995\n",
      "Epoch 12/50\n",
      "19218/19218 [==============================] - 20s 1ms/step - loss: 0.0326 - accuracy: 0.9914 - val_loss: 0.0075 - val_accuracy: 0.9998\n",
      "Epoch 13/50\n",
      "19218/19218 [==============================] - 19s 1ms/step - loss: 0.0252 - accuracy: 0.9938 - val_loss: 0.0063 - val_accuracy: 0.9994\n",
      "Epoch 14/50\n",
      "19218/19218 [==============================] - 20s 1ms/step - loss: 0.0258 - accuracy: 0.9933 - val_loss: 0.0066 - val_accuracy: 0.9990\n",
      "Epoch 15/50\n",
      "19218/19218 [==============================] - 20s 1ms/step - loss: 0.0219 - accuracy: 0.9944 - val_loss: 0.0057 - val_accuracy: 0.9999\n",
      "Epoch 16/50\n",
      "19218/19218 [==============================] - 20s 1ms/step - loss: 0.0137 - accuracy: 0.9966 - val_loss: 0.0027 - val_accuracy: 0.9998\n",
      "Epoch 17/50\n",
      "19218/19218 [==============================] - 20s 1ms/step - loss: 0.0139 - accuracy: 0.9965 - val_loss: 0.0018 - val_accuracy: 0.9999\n",
      "Epoch 18/50\n",
      "19218/19218 [==============================] - 21s 1ms/step - loss: 0.0180 - accuracy: 0.9953 - val_loss: 0.0061 - val_accuracy: 0.9988\n",
      "Epoch 19/50\n",
      "19218/19218 [==============================] - 21s 1ms/step - loss: 0.0139 - accuracy: 0.9964 - val_loss: 0.0151 - val_accuracy: 0.9949\n",
      "Epoch 20/50\n",
      "19218/19218 [==============================] - 21s 1ms/step - loss: 0.0131 - accuracy: 0.9959 - val_loss: 0.0025 - val_accuracy: 0.9998\n",
      "Epoch 21/50\n",
      "19218/19218 [==============================] - 21s 1ms/step - loss: 0.0117 - accuracy: 0.9969 - val_loss: 0.0042 - val_accuracy: 0.9995\n",
      "Epoch 22/50\n",
      "19218/19218 [==============================] - 22s 1ms/step - loss: 0.0111 - accuracy: 0.9972 - val_loss: 0.0021 - val_accuracy: 0.9999\n",
      "Epoch 23/50\n",
      "19218/19218 [==============================] - 23s 1ms/step - loss: 0.0121 - accuracy: 0.9965 - val_loss: 0.0014 - val_accuracy: 0.9996\n",
      "Epoch 24/50\n",
      "19218/19218 [==============================] - 21s 1ms/step - loss: 0.0088 - accuracy: 0.9974 - val_loss: 0.0022 - val_accuracy: 0.9995\n",
      "Epoch 25/50\n",
      "19218/19218 [==============================] - 22s 1ms/step - loss: 0.0086 - accuracy: 0.9978 - val_loss: 7.4611e-04 - val_accuracy: 1.0000\n",
      "Epoch 26/50\n",
      "19218/19218 [==============================] - 21s 1ms/step - loss: 0.0072 - accuracy: 0.9981 - val_loss: 0.0013 - val_accuracy: 1.0000\n",
      "Epoch 27/50\n",
      "19218/19218 [==============================] - 20s 1ms/step - loss: 0.0078 - accuracy: 0.9974 - val_loss: 0.0020 - val_accuracy: 0.9998\n",
      "Epoch 28/50\n",
      "19218/19218 [==============================] - 20s 1ms/step - loss: 0.0153 - accuracy: 0.9955 - val_loss: 8.5320e-04 - val_accuracy: 0.9999\n",
      "Epoch 29/50\n",
      "19218/19218 [==============================] - 20s 1ms/step - loss: 0.0056 - accuracy: 0.9986 - val_loss: 6.7819e-04 - val_accuracy: 1.0000\n",
      "Epoch 30/50\n",
      "19218/19218 [==============================] - 21s 1ms/step - loss: 0.0083 - accuracy: 0.9972 - val_loss: 0.0039 - val_accuracy: 0.9994\n",
      "Epoch 31/50\n",
      "19218/19218 [==============================] - 20s 1ms/step - loss: 0.0202 - accuracy: 0.9935 - val_loss: 0.0074 - val_accuracy: 0.9983\n",
      "Epoch 32/50\n",
      "19218/19218 [==============================] - 20s 1ms/step - loss: 0.0087 - accuracy: 0.9972 - val_loss: 5.3339e-04 - val_accuracy: 1.0000\n",
      "Epoch 33/50\n",
      "19218/19218 [==============================] - 21s 1ms/step - loss: 0.0070 - accuracy: 0.9983 - val_loss: 0.0033 - val_accuracy: 0.9989\n",
      "Epoch 34/50\n",
      "19218/19218 [==============================] - 20s 1ms/step - loss: 0.0044 - accuracy: 0.9987 - val_loss: 3.2368e-04 - val_accuracy: 1.0000\n",
      "Epoch 35/50\n",
      "19218/19218 [==============================] - 21s 1ms/step - loss: 0.0034 - accuracy: 0.9990 - val_loss: 7.3579e-04 - val_accuracy: 1.0000\n",
      "Epoch 36/50\n",
      "19218/19218 [==============================] - 20s 1ms/step - loss: 0.0073 - accuracy: 0.9977 - val_loss: 0.0042 - val_accuracy: 0.9985\n",
      "Epoch 37/50\n",
      "19218/19218 [==============================] - 20s 1ms/step - loss: 0.0086 - accuracy: 0.9974 - val_loss: 3.2348e-04 - val_accuracy: 1.0000\n",
      "Epoch 38/50\n",
      "19218/19218 [==============================] - 20s 1ms/step - loss: 0.0018 - accuracy: 0.9997 - val_loss: 1.1601e-04 - val_accuracy: 1.0000\n",
      "Epoch 39/50\n",
      "19218/19218 [==============================] - 20s 1ms/step - loss: 0.0026 - accuracy: 0.9991 - val_loss: 1.4195e-04 - val_accuracy: 1.0000\n",
      "Epoch 40/50\n",
      "19218/19218 [==============================] - 19s 1ms/step - loss: 0.0038 - accuracy: 0.9989 - val_loss: 0.0016 - val_accuracy: 0.9999\n",
      "Epoch 41/50\n",
      "19218/19218 [==============================] - 19s 1ms/step - loss: 0.0155 - accuracy: 0.9950 - val_loss: 0.0034 - val_accuracy: 0.9993\n",
      "Epoch 42/50\n",
      "19218/19218 [==============================] - 20s 1ms/step - loss: 0.0049 - accuracy: 0.9986 - val_loss: 0.0131 - val_accuracy: 0.9948\n",
      "Epoch 43/50\n",
      "19218/19218 [==============================] - 21s 1ms/step - loss: 0.0057 - accuracy: 0.9983 - val_loss: 7.8749e-04 - val_accuracy: 0.9999\n",
      "Epoch 44/50\n",
      "19218/19218 [==============================] - 20s 1ms/step - loss: 0.0054 - accuracy: 0.9981 - val_loss: 0.0205 - val_accuracy: 0.9938\n",
      "Epoch 45/50\n",
      "19218/19218 [==============================] - 18s 961us/step - loss: 0.0048 - accuracy: 0.9985 - val_loss: 1.3399e-04 - val_accuracy: 1.0000\n",
      "Epoch 46/50\n",
      "19218/19218 [==============================] - 18s 926us/step - loss: 0.0043 - accuracy: 0.9986 - val_loss: 3.2417e-04 - val_accuracy: 1.0000\n",
      "Epoch 47/50\n",
      "19218/19218 [==============================] - 19s 972us/step - loss: 0.0032 - accuracy: 0.9989 - val_loss: 8.1870e-04 - val_accuracy: 1.0000\n",
      "Epoch 48/50\n",
      "19218/19218 [==============================] - 17s 883us/step - loss: 0.0123 - accuracy: 0.9966 - val_loss: 0.0439 - val_accuracy: 0.9865\n",
      "Epoch 49/50\n",
      "19218/19218 [==============================] - 17s 882us/step - loss: 0.0080 - accuracy: 0.9971 - val_loss: 5.4791e-04 - val_accuracy: 1.0000\n",
      "Epoch 50/50\n",
      "19218/19218 [==============================] - 17s 875us/step - loss: 8.5882e-04 - accuracy: 0.9999 - val_loss: 3.2731e-05 - val_accuracy: 1.0000\n"
     ]
    }
   ],
   "source": [
    "history = model.fit(x_train, y_train, validation_data = (x_test, y_test), epochs=epochs, batch_size=batch_size)"
   ]
  },
  {
   "cell_type": "code",
   "execution_count": 57,
   "metadata": {},
   "outputs": [],
   "source": [
    "model.save('CNN_1.h5')"
   ]
  },
  {
   "cell_type": "code",
   "execution_count": 54,
   "metadata": {},
   "outputs": [
    {
     "data": {
      "text/plain": [
       "(7172, 28, 28, 1)"
      ]
     },
     "execution_count": 54,
     "metadata": {},
     "output_type": "execute_result"
    }
   ],
   "source": [
    "test_labels = test['label']\n",
    "test.drop('label', axis = 1, inplace = True)\n",
    "test_images = test.values\n",
    "test_images = np.array([np.reshape(i, (28, 28)) for i in test_images])\n",
    "test_images = np.array([i.flatten() for i in test_images])\n",
    "test_labels = label_binrizer.fit_transform(test_labels)\n",
    "test_images = test_images.reshape(test_images.shape[0], 28, 28, 1)\n",
    "test_images.shape"
   ]
  },
  {
   "cell_type": "code",
   "execution_count": 55,
   "metadata": {},
   "outputs": [],
   "source": [
    "y_pred = model.predict(test_images)"
   ]
  },
  {
   "cell_type": "code",
   "execution_count": 56,
   "metadata": {},
   "outputs": [
    {
     "data": {
      "text/plain": [
       "0.899191299498048"
      ]
     },
     "execution_count": 56,
     "metadata": {},
     "output_type": "execute_result"
    }
   ],
   "source": [
    "from sklearn.metrics import accuracy_score\n",
    "accuracy_score(test_labels, y_pred.round())"
   ]
  },
  {
   "cell_type": "code",
   "execution_count": null,
   "metadata": {},
   "outputs": [],
   "source": []
  }
 ],
 "metadata": {
  "kernelspec": {
   "display_name": "Python 3",
   "language": "python",
   "name": "python3"
  },
  "language_info": {
   "codemirror_mode": {
    "name": "ipython",
    "version": 3
   },
   "file_extension": ".py",
   "mimetype": "text/x-python",
   "name": "python",
   "nbconvert_exporter": "python",
   "pygments_lexer": "ipython3",
   "version": "3.7.4"
  }
 },
 "nbformat": 4,
 "nbformat_minor": 2
}
